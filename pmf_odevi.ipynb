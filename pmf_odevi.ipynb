{
  "nbformat": 4,
  "nbformat_minor": 0,
  "metadata": {
    "colab": {
      "name": "pmf_odevi.ipynb",
      "provenance": [],
      "collapsed_sections": [],
      "authorship_tag": "ABX9TyOKK7kzz8nbMZKIfQvbLM4P",
      "include_colab_link": true
    },
    "kernelspec": {
      "name": "python3",
      "display_name": "Python 3"
    },
    "language_info": {
      "name": "python"
    }
  },
  "cells": [
    {
      "cell_type": "markdown",
      "metadata": {
        "id": "view-in-github",
        "colab_type": "text"
      },
      "source": [
        "<a href=\"https://colab.research.google.com/github/tansudemir52/Projelerim/blob/main/pmf_odevi.ipynb\" target=\"_parent\"><img src=\"https://colab.research.google.com/assets/colab-badge.svg\" alt=\"Open In Colab\"/></a>"
      ]
    },
    {
      "cell_type": "markdown",
      "metadata": {
        "id": "7Af4wj8QT147"
      },
      "source": [
        "# **Olasılık Kütle Fonksiyonu (PMF)**\n",
        "\n",
        "# **Soru :**\n",
        "# F(x) { x*x,   x=1, 2, 3 }  \n",
        "şeklinde tanımlanmış kesikli olasılık fonksiyonu için, \n",
        "P(1)=? \n",
        "P(2)=? \n",
        "P(3)=?\n",
        "\n",
        "Toplam Olasılık = ( 1 + 4 + 9 ) = 14\n",
        "\n",
        "P(x=1)= 1 * 1 / 14 = 1 / 14\n",
        "\n",
        "P(x=2)= 4 * 1 / 14 = 4 / 14\n",
        "\n",
        "P(x=3)= 9 * 1 / 14 = 9 / 14\n",
        "\n",
        "\n",
        "\n"
      ]
    },
    {
      "cell_type": "code",
      "metadata": {
        "id": "1sWyLbE1T0_S",
        "colab": {
          "base_uri": "https://localhost:8080/"
        },
        "outputId": "685dbf71-1065-4371-ada7-39163d1eed9c"
      },
      "source": [
        "def pmf(n):\n",
        "  \n",
        "  sList = [1,2,3] # Tüm Sonuçların List'e Eklenmesi\n",
        "  \n",
        "  sx = []\n",
        "\n",
        "  toplam=0\n",
        "\n",
        "  for x in sList:\n",
        "\n",
        "    toplam = toplam + x*x\n",
        "    sx.append(x*x)\n",
        "\n",
        "  return sx[n]/toplam\n",
        "\n",
        "  #print(\"Toplam = \",toplam)\n",
        "  #print(\"Toplam = \",sx)\n",
        "\n",
        "\n",
        "print(\"F(x=1) = \", round(pmf(0),2))\n",
        "print(\"F(x=2) = \", round(pmf(1),2))\n",
        "print(\"F(x=3) = \", round(pmf(2),2))\n"
      ],
      "execution_count": null,
      "outputs": [
        {
          "output_type": "stream",
          "text": [
            "F(x=1) =  0.07\n",
            "F(x=2) =  0.29\n",
            "F(x=3) =  0.64\n"
          ],
          "name": "stdout"
        }
      ]
    }
  ]
}