{
  "nbformat": 4,
  "nbformat_minor": 0,
  "metadata": {
    "colab": {
      "name": "Kosullu_Olasilik_Odevi.ipynb",
      "provenance": [],
      "collapsed_sections": [],
      "toc_visible": true,
      "authorship_tag": "ABX9TyMTFpRlLXWzpX/hSissA0YI",
      "include_colab_link": true
    },
    "kernelspec": {
      "name": "python3",
      "display_name": "Python 3"
    },
    "language_info": {
      "name": "python"
    }
  },
  "cells": [
    {
      "cell_type": "markdown",
      "metadata": {
        "id": "view-in-github",
        "colab_type": "text"
      },
      "source": [
        "<a href=\"https://colab.research.google.com/github/tansudemir52/Projelerim/blob/main/Kosullu_Olasilik_Odevi.ipynb\" target=\"_parent\"><img src=\"https://colab.research.google.com/assets/colab-badge.svg\" alt=\"Open In Colab\"/></a>"
      ]
    },
    {
      "cell_type": "markdown",
      "metadata": {
        "id": "f9uC_ePyr13G"
      },
      "source": [
        "**Koşullu Olasılık Ödevi**\n",
        "\n",
        "**Problem :** 16 Takımdan oluşan bir turnuva düzenlenecektir. 4 takımdan oluşturulacak 4 gurup oluşturulmak istenmektedir. 1.gurubun belli olması durumunda oluşacak gurupların olma olasılığı nedir?\n",
        "\n",
        "**Çözüm:**\n",
        "T(takım sayısı) = 16\n",
        "\n",
        "G(Gurup takım sayısı) = 4\n",
        "\n",
        "S(Seçili gurup sayısı) = 1\n",
        "\n",
        "Toplam durum = C(T,G) = C(16,4)\n",
        "\n",
        "İstenen durum = C(T-S,G) = C(12,4)\n",
        "\n",
        "Gurupların olma olasılığı = İstenen durum / Toplam durum \n",
        "  = C(12,4)/C(16,4) = 0.27\n",
        "\n",
        "Örnek uzay = C(16,4)\n",
        "\n",
        "Olay = C(16-4,4)\n",
        "\n",
        "Olasılık değeri = C(16-4,4) / C(16,4) = 0.27\n",
        "\n",
        "1-ilk olarak bütün gurupların kaç farklı şekilde oluşturulduğunu buluyoruz.\n",
        "\n",
        "2-Bu aşamada 1. gurup belli olduğu için 1 gurup hariç diğer guruplarında kaç farklı şekilde oluşma sayısı buluyoruz. Bu aynı zamanda birinci gurubun oluşma sayısı olacaktır.\n",
        "\n",
        "3- İstenen durumu tüm durumlara oranlayarak belirli 1. gurubun olduğu durumdaki gurupların oluşma olasılığını buluyoruz. \n",
        "\n",
        "\n",
        "\n",
        "\n",
        "\n"
      ]
    },
    {
      "cell_type": "code",
      "metadata": {
        "colab": {
          "base_uri": "https://localhost:8080/"
        },
        "id": "RXEjVV9CrvH1",
        "outputId": "b2f1cdd1-92e8-4b39-e6c9-886f7f087619"
      },
      "source": [
        "def main():\n",
        "\n",
        "  takim_sayisi = 16\n",
        "  \n",
        "  gurup_takim_sayisi = 4\n",
        "\n",
        "  secili_gurup_sayisi = 1\n",
        "\n",
        "  toplam_olasilik = kombinasyon(takim_sayisi, gurup_takim_sayisi)\n",
        "\n",
        "  olma_olasiligi = kombinasyon(takim_sayisi-secili_gurup_sayisi*gurup_takim_sayisi, gurup_takim_sayisi)\n",
        "\n",
        "  return (olma_olasiligi/toplam_olasilik)\n",
        "\n",
        "def kombinasyon(n, r):\n",
        "    return faktoriyel(n) / (faktoriyel(r) * faktoriyel(n - r))\n",
        "\n",
        "def faktoriyel(n):\n",
        "    if n == 0:\n",
        "      return 1\n",
        "    else:\n",
        "      return n * faktoriyel(n-1)\n",
        "\n",
        "print(\"Seçilen 1 gurubun olma olasılığı : \", round(main(), 2))"
      ],
      "execution_count": null,
      "outputs": [
        {
          "output_type": "stream",
          "text": [
            "Seçilen 1 gurubun olma olasılığı :  0.27\n"
          ],
          "name": "stdout"
        }
      ]
    }
  ]
}
